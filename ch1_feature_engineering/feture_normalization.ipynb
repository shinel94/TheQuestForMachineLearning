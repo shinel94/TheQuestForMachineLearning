{
 "cells": [
  {
   "cell_type": "markdown",
   "metadata": {
    "collapsed": true,
    "pycharm": {
     "name": "#%% md\n"
    }
   },
   "source": [
    "# 피쳐 정규화\n",
    "\n",
    "> 입력 데이터의 독립변수간 변수 자체가 가지는 변동성을 줄이기 위해서, 적용하는 기법으로<br>\n",
    "> 특히 수치형 데이터의 경우 피쳐정규화를 진행하지 않고 모델 학습을 진행하게 되면, 전반적으로 크기가 크고 분산이 큰 데이터에 대해서 편향되어 학습이 진행될 가능성이 높아진다.<br>\n",
    "> 분산이 크게 되면 값이 표현하는 도메인이 같이 커지는 효과가 있어서 하나의 입력데이터에 대해서 보다 많은 예측이 가능하기 때문에, 해당 분산이 큰 입력만으로도 결과를 예측할 가능성이 되고 <br>\n",
    "> 이를 적절히 막지 않으면, 해당 변수로만 학습이 진행되는 편향이 발생할 수 있다.\n",
    "> 크게 2개의 정규화 기법이 있다.\n",
    ">> 1. 선형함수 정규화 / Min-Max Scaling : 하나의 독립변수를 0과 1사이의 값으로 선형으로 정규화 합니다. <br>\n",
    ">> 2. 표준 정규화 / Z-score nomalization / Gauss normalization : 데이터를 평균이 0이고 분산이 1이 되는 정규분포상으로 정규화 합니다. <br>\n",
    "> 특히 그라디엔트 기반 학습법의 경우, 입력값의 차이가 gradient로 흘러갈 수 있기 때문에, 수치형 데이터에 대해서는 반드시 정규화를 진행해주어야 합니다.<br>\n",
    "> 따라서 기울기 기반 학습법이 아닌 의사 결정 나무와 같은 기계학습 학습법에는 피쳐 정규화가 모델 성능에 큰 영향을 주지 않습니다."
   ]
  },
  {
   "cell_type": "markdown",
   "source": [],
   "metadata": {
    "collapsed": false
   }
  }
 ],
 "metadata": {
  "kernelspec": {
   "display_name": "Python 3",
   "language": "python",
   "name": "python3"
  },
  "language_info": {
   "codemirror_mode": {
    "name": "ipython",
    "version": 2
   },
   "file_extension": ".py",
   "mimetype": "text/x-python",
   "name": "python",
   "nbconvert_exporter": "python",
   "pygments_lexer": "ipython2",
   "version": "2.7.6"
  }
 },
 "nbformat": 4,
 "nbformat_minor": 0
}